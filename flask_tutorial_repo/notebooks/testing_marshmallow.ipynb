{
  "cells": [
    {
      "cell_type": "code",
      "execution_count": 171,
      "metadata": {},
      "outputs": [],
      "source": [
        "from sqlalchemy import create_engine\n",
        "from sqlalchemy.ext.declarative import declarative_base\n",
        "from sqlalchemy.orm import sessionmaker\n",
        "from flask import make_response, abort\n",
        "from database import Base, engine, SessionLocal\n",
        "from model import Person, people_schema, person_schema\n",
        "from flask import make_response, abort\n",
        "import json as json\n",
        "import time\n"
      ]
    },
    {
      "cell_type": "code",
      "execution_count": 172,
      "metadata": {},
      "outputs": [
        {
          "name": "stderr",
          "output_type": "stream",
          "text": [
            "C:\\Users\\EGYPT\\AppData\\Local\\Temp\\ipykernel_10060\\2748319727.py:7: MovedIn20Warning: The ``declarative_base()`` function is now available as sqlalchemy.orm.declarative_base(). (deprecated since: 2.0) (Background on SQLAlchemy 2.0 at: https://sqlalche.me/e/b8d9)\n",
            "  Base = declarative_base()\n"
          ]
        }
      ],
      "source": [
        "SQLALCHEMY_DATABASE_URL = \"sqlite:///people.db\"\n",
        "\n",
        "engine = create_engine(\n",
        "    SQLALCHEMY_DATABASE_URL, connect_args={\"check_same_thread\": False}\n",
        ")\n",
        "SessionLocal = sessionmaker(autocommit=False, autoflush=False, bind=engine)\n",
        "Base = declarative_base()\n"
      ]
    },
    {
      "cell_type": "code",
      "execution_count": 173,
      "metadata": {},
      "outputs": [],
      "source": [
        "from sqlalchemy import Column, Integer, String, DateTime\n",
        "from datetime import datetime\n",
        "from sqlalchemy.orm import Session\n",
        "from config import ma\n",
        "from json import JSONEncoder\n",
        "\n",
        "class Person(Base):\n",
        "    __tablename__ = \"person\"\n",
        "    id = Column(Integer, primary_key=True)\n",
        "    last_name = Column(String(32), unique=True)\n",
        "    first_name = Column(String(32))\n",
        "    timestamp = Column(\n",
        "        DateTime, default=datetime.utcnow, onupdate=datetime.utcnow\n",
        "    )\n",
        "    def from_jsony(valid_json):\n",
        "        return json.loads(valid_json)\n",
        "\n",
        "class PersonSchema(ma.SQLAlchemyAutoSchema):\n",
        "    class Meta:\n",
        "        model = Person\n",
        "        load_instance = True\n",
        "        sqla_session = Session(engine)\n",
        "\n",
        "person_schema = PersonSchema()\n",
        "people_schema = PersonSchema(many=True)\n",
        "\n",
        "class EmployeeEncoder(JSONEncoder):\n",
        "        def default(self, o):\n",
        "            return o.__dict__"
      ]
    },
    {
      "cell_type": "code",
      "execution_count": 159,
      "metadata": {},
      "outputs": [
        {
          "name": "stdout",
          "output_type": "stream",
          "text": [
            "119.681\n"
          ]
        }
      ],
      "source": [
        "\n",
        "Base.metadata.create_all(bind=engine)\n",
        "session = SessionLocal()\n",
        "\n",
        "def create_marshmallow(person):\n",
        "    last_name = person.get(\"last_name\")\n",
        "    existing_person = session.query(Person).filter(Person.last_name == last_name).one_or_none()\n",
        "\n",
        "    if existing_person is None:\n",
        "        new_person = person_schema.load(person, session=session)\n",
        "        session.add(new_person)\n",
        "        session.commit()\n",
        "        return person_schema.dump(new_person), 201\n",
        "    abort(406, f\"Person with last name {last_name} already exists\")\n",
        "\n",
        "new_person = {\"last_name\": \"Brrerefdgfdrr\", \"first_name\":\"Ahmed\"}\n",
        "start = datetime.now()\n",
        "person_created = create_marshmallow(new_person)\n",
        "end = datetime.now()\n",
        "difference = end - start\n",
        "\n",
        "print(difference.microseconds / 1000)"
      ]
    },
    {
      "cell_type": "code",
      "execution_count": null,
      "metadata": {},
      "outputs": [],
      "source": [
        "import json\n",
        "\n",
        "def create_mere_json(person):\n",
        "    last_name = person.get(\"last_name\")\n",
        "    existing_person = session.query(Person).filter(Person.last_name == last_name).one_or_none()\n",
        "\n",
        "    if existing_person is None:\n",
        "        valid_json = str(person).replace(\"\\'\", \"\\\"\")\n",
        "        my_dict = Person().from_jsony(valid_json)\n",
        "        print(valid_json)\n",
        "        session.add(my_dict)\n",
        "        session.commit()\n",
        "        return json.dumps(person.__dict__), 201\n",
        "    abort(406, f\"Person with last name {last_name} already exists\")\n",
        "\n",
        "new_person = {\"last_name\": \"Brrererrer\", \"first_name\":\"Ahmed\"}\n",
        "start = datetime.now()\n",
        "person_created = create_mere_json(new_person)\n",
        "end = datetime.now()\n",
        "difference = end - start\n",
        "\n",
        "print(difference.microseconds / 1000)\n"
      ]
    },
    {
      "cell_type": "code",
      "execution_count": 128,
      "metadata": {},
      "outputs": [
        {
          "name": "stdout",
          "output_type": "stream",
          "text": [
            "{'last_name': 'Brrererrerttt', 'first_name': 'Ahmed'}\n"
          ]
        }
      ],
      "source": [
        "print({\"last_name\": \"Brrererrerttt\", \"first_name\":\"Ahmed\"})"
      ]
    }
  ],
  "metadata": {
    "kernelspec": {
      "display_name": "venv",
      "language": "python",
      "name": "python3"
    },
    "language_info": {
      "codemirror_mode": {
        "name": "ipython",
        "version": 3
      },
      "file_extension": ".py",
      "mimetype": "text/x-python",
      "name": "python",
      "nbconvert_exporter": "python",
      "pygments_lexer": "ipython3",
      "version": "3.8.6"
    },
    "orig_nbformat": 4,
    "vscode": {
      "interpreter": {
        "hash": "609986fe9c3bf33df5de2f7456677c03ddf4e01af5ab32d2935c68b7be53bd66"
      }
    }
  },
  "nbformat": 4,
  "nbformat_minor": 2
}
